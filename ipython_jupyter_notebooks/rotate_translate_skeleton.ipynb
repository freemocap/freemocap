{
 "cells": [
  {
   "cell_type": "code",
   "execution_count": 6,
   "metadata": {
    "collapsed": true,
    "pycharm": {
     "name": "#%%\n"
    }
   },
   "outputs": [],
   "source": [
    "import numpy as np\n",
    "import pandas as pd\n",
    "from pathlib import Path\n",
    "from mediapipe.python.solutions import holistic as mp_holistic"
   ]
  },
  {
   "cell_type": "code",
   "execution_count": null,
   "metadata": {
    "collapsed": false,
    "pycharm": {
     "name": "#%%\n"
    }
   },
   "outputs": [],
   "source": [
    "#load original skeleton / center_of_mass data\n",
    "session_path = Path(r\"D:\\Dropbox\\FreeMoCapProject\\FreeMocap_Data\\sesh_2022-11-09_20_38_23_neurons_demo\")\n",
    "output_data_path = session_path / \"DataArrays\"\n",
    "og_skeleton_npy_file_name = \"mediapipe_body_3d_xyz.npy\"\n",
    "og_skeleton_npy_path = output_data_path / og_skeleton_npy_file_name\n",
    "\n",
    "original_skeleton_frame_marker_xyz = np.load(og_skeleton_npy_path) / 1000 #convert to meters (b/c that's Blender's unit, which is where we got the transformation matrix)\n",
    "number_of_frames = original_skeleton_frame_marker_xyz.shape[0]\n",
    "number_of_markers = original_skeleton_frame_marker_xyz.shape[1]\n",
    "\n",
    "# load center_of_mass data\n",
    "og_center_of_mass_npy_file_name = \"totalBodyCOM_frame_XYZ.npy\"\n",
    "original_center_of_mass_xyz = np.load(output_data_path / og_center_of_mass_npy_file_name) / 1000"
   ]
  },
  {
   "cell_type": "code",
   "execution_count": null,
   "metadata": {
    "collapsed": false,
    "pycharm": {
     "name": "#%%\n"
    }
   },
   "outputs": [],
   "source": [
    "#to get this data,\n",
    "# -  open `.blend` file (or run `src/blender_stuff/load_npy_as_empties.py`),\n",
    "# -  rotate skeleton until it looks good, then ... \n",
    "# -  enter `bpy.data.objects['freemocap_origin_axes'].matrix_world` into console\n",
    "# -  copy the output into the `transformation_matrix` variable below (changing ()'s to []'s)\n",
    "\n",
    "transformation_matrix = \\\n",
    "[[0.8891741633415222, -0.4202311933040619, -0.181038960814476, 0.07594677060842514],\n",
    "[0.40811246633529663, 0.9072690606117249, -0.10152354836463928, 0.0],\n",
    "[0.20691442489624023, 0.016387859359383583, 0.9782217741012573, 0.14920693635940552],\n",
    "[0.0, 0.0, 0.0, 1.0]]"
   ]
  },
  {
   "cell_type": "code",
   "execution_count": null,
   "metadata": {
    "collapsed": false,
    "pycharm": {
     "name": "#%%\n"
    }
   },
   "outputs": [],
   "source": [
    "transformed_skeleton_frame_marker_xyz = np.zeros_like(original_skeleton_frame_marker_xyz)\n",
    "transformed_center_of_mass_frame_xyz = np.zeros((number_of_frames, 3))\n",
    "\n",
    "for frame_number in range(number_of_frames):\n",
    "    \n",
    "    transformed_com_xyzw = transformation_matrix @ np.append(original_center_of_mass_xyz[frame_number], 1)\n",
    "    transformed_center_of_mass_frame_xyz[frame_number] = transformed_com_xyzw[:3]\n",
    "\n",
    "    for marker_number in range(number_of_markers):\n",
    "        point_xyz = original_skeleton_frame_marker_xyz[frame_number, marker_number, :]\n",
    "        point_xyzw = np.append(point_xyz, 1)\n",
    "        transformed_point_xyzw = transformation_matrix @ point_xyzw\n",
    "        transformed_point_xyz = transformed_point_xyzw[:3]\n",
    "        transformed_skeleton_frame_marker_xyz[frame_number, marker_number, : ] = transformed_point_xyz\n",
    "\n",
    "print(f\"transformed_skeleton_frame_marker_xyz.shape: {transformed_skeleton_frame_marker_xyz.shape}\")\n",
    "\n",
    "#convert back to mm\n",
    "original_skeleton_frame_marker_xyz *= 1000\n",
    "original_center_of_mass_xyz *= 1000\n",
    "\n",
    "transformed_skeleton_frame_marker_xyz*= 1000\n",
    "transformed_center_of_mass_frame_xyz *= 1000\n",
    "\n",
    "\n",
    "np.save(output_data_path / \"mediapipe_body_3d_xyz_transformed.npy\", transformed_skeleton_frame_marker_xyz)"
   ]
  },
  {
   "cell_type": "markdown",
   "metadata": {
    "collapsed": false,
    "pycharm": {
     "name": "#%% md\n"
    }
   },
   "source": [
    "# Now we test if it works by plotting COM projection onto XZ (ground) plane relative to the base of support (i.e. the right toe and heel markers)"
   ]
  },
  {
   "cell_type": "code",
   "execution_count": null,
   "metadata": {
    "collapsed": false,
    "pycharm": {
     "name": "#%%\n"
    }
   },
   "outputs": [],
   "source": [
    "import matplotlib.pyplot as plt\n"
   ]
  },
  {
   "cell_type": "code",
   "execution_count": null,
   "metadata": {
    "collapsed": false,
    "pycharm": {
     "name": "#%%\n"
    }
   },
   "outputs": [],
   "source": [
    "# get_relevant marker data out\n",
    "mediapipe_body_landmark_names = [\n",
    "    landmark.name.lower() for landmark in mp_holistic.PoseLandmark\n",
    "]\n",
    "\n",
    "# original data\n",
    "original_right_heel_x = original_skeleton_frame_marker_xyz[:, mediapipe_body_landmark_names.index(\"right_heel\"),0]\n",
    "original_right_heel_y = original_skeleton_frame_marker_xyz[:, mediapipe_body_landmark_names.index(\"right_heel\"),1]\n",
    "original_right_heel_z = original_skeleton_frame_marker_xyz[:, mediapipe_body_landmark_names.index(\"right_heel\"),2]\n",
    "\n",
    "original_right_toe_x = original_skeleton_frame_marker_xyz[:, mediapipe_body_landmark_names.index(\"right_foot_index\"),0]\n",
    "original_right_toe_y = original_skeleton_frame_marker_xyz[:, mediapipe_body_landmark_names.index(\"right_foot_index\"),1]\n",
    "original_right_toe_z = original_skeleton_frame_marker_xyz[:, mediapipe_body_landmark_names.index(\"right_foot_index\"),2]\n",
    "\n",
    "original_left_heel_x = original_skeleton_frame_marker_xyz[:, mediapipe_body_landmark_names.index(\"left_heel\"),0]\n",
    "original_left_heel_y = original_skeleton_frame_marker_xyz[:, mediapipe_body_landmark_names.index(\"left_heel\"),1]\n",
    "original_left_heel_z = original_skeleton_frame_marker_xyz[:, mediapipe_body_landmark_names.index(\"left_heel\"),2]\n",
    "\n",
    "original_left_toe_x = original_skeleton_frame_marker_xyz[:, mediapipe_body_landmark_names.index(\"left_foot_index\"),0]\n",
    "original_left_toe_y = original_skeleton_frame_marker_xyz[:, mediapipe_body_landmark_names.index(\"left_foot_index\"),1]\n",
    "original_left_toe_z = original_skeleton_frame_marker_xyz[:, mediapipe_body_landmark_names.index(\"left_foot_index\"),2]\n",
    "\n",
    "\n",
    "# transformed data\n",
    "transformed_right_heel_x = transformed_skeleton_frame_marker_xyz[:, mediapipe_body_landmark_names.index(\"right_heel\"),0]\n",
    "transformed_right_heel_y = transformed_skeleton_frame_marker_xyz[:, mediapipe_body_landmark_names.index(\"right_heel\"),1]\n",
    "transformed_right_heel_z = transformed_skeleton_frame_marker_xyz[:, mediapipe_body_landmark_names.index(\"right_heel\"),2]\n",
    "\n",
    "transformed_right_toe_x = transformed_skeleton_frame_marker_xyz[:, mediapipe_body_landmark_names.index(\"right_foot_index\"),0]\n",
    "transformed_right_toe_y = transformed_skeleton_frame_marker_xyz[:, mediapipe_body_landmark_names.index(\"right_foot_index\"),1]\n",
    "transformed_right_toe_z = transformed_skeleton_frame_marker_xyz[:, mediapipe_body_landmark_names.index(\"right_foot_index\"),2]\n",
    "\n",
    "transformed_left_heel_x = transformed_skeleton_frame_marker_xyz[:, mediapipe_body_landmark_names.index(\"left_heel\"),0]\n",
    "transformed_left_heel_y = transformed_skeleton_frame_marker_xyz[:, mediapipe_body_landmark_names.index(\"left_heel\"),1]\n",
    "transformed_left_heel_z = transformed_skeleton_frame_marker_xyz[:, mediapipe_body_landmark_names.index(\"left_heel\"),2]\n",
    "\n",
    "transformed_left_toe_x = transformed_skeleton_frame_marker_xyz[:, mediapipe_body_landmark_names.index(\"left_foot_index\"),0]\n",
    "transformed_left_toe_y = transformed_skeleton_frame_marker_xyz[:, mediapipe_body_landmark_names.index(\"left_foot_index\"),1]\n",
    "transformed_left_toe_z = transformed_skeleton_frame_marker_xyz[:, mediapipe_body_landmark_names.index(\"left_foot_index\"),2]\n"
   ]
  },
  {
   "cell_type": "code",
   "execution_count": null,
   "metadata": {
    "collapsed": false,
    "pycharm": {
     "name": "#%%\n"
    }
   },
   "outputs": [],
   "source": [
    "\n"
   ]
  },
  {
   "cell_type": "code",
   "execution_count": null,
   "metadata": {
    "collapsed": false,
    "pycharm": {
     "name": "#%%\n"
    }
   },
   "outputs": [],
   "source": [
    "# check via bos/com\n",
    "#identify relevant frames\n",
    "standing_on_right_foot_frame_start = 431 #watched the output `mp4` for frame numbers\n",
    "standing_on_right_foot_frame_end = 470\n",
    "frames_of_interest = np.arange(standing_on_right_foot_frame_start, standing_on_right_foot_frame_end)\n"
   ]
  },
  {
   "cell_type": "code",
   "execution_count": null,
   "metadata": {
    "collapsed": false,
    "pycharm": {
     "name": "#%%\n"
    }
   },
   "outputs": [],
   "source": [
    "\n",
    "def normalize_axes_2d(axis):\n",
    "    x_range  = axis.get_xlim()[1] - axis.get_xlim()[0]\n",
    "    y_range  = axis.get_ylim()[1] - axis.get_ylim()[0]\n",
    "    \n",
    "    if x_range > y_range:\n",
    "        axis.set_ylim(axis.get_ylim()[0], axis.get_ylim()[0] + x_range)\n",
    "    else:\n",
    "        axis.set_xlim(axis.get_xlim()[0], axis.get_xlim()[0] + y_range)\n",
    "    return axis\n",
    "\n",
    "figure = plt.figure(figsize=(10,10))\n",
    "\n",
    "## plot original data (Time series)\n",
    "ax1 = figure.add_subplot(221)\n",
    "ax1.set_title(\"Original data - timeseries\")\n",
    "ax1.plot(original_right_heel_x, label=\"original right heel x\")\n",
    "ax1.plot(original_right_heel_y, label=\"original right heel y\")\n",
    "ax1.plot(original_right_heel_z, label=\"original right heel z\")\n",
    "ax1.legend()\n",
    "\n",
    "\n",
    "## plot original data (on XZ (ground) plane)\n",
    "ax2 = figure.add_subplot(222)\n",
    "ax2.set_title(\"Original data - center of mass vs base of support\")\n",
    "ax2.plot(original_right_toe_x[frames_of_interest],  original_right_toe_y[frames_of_interest], '.-', label=\"original right toe\", color=\"darkred\")\n",
    "ax2.plot(original_right_heel_x[frames_of_interest], original_right_heel_y[frames_of_interest], 'o-', label=\"original right heel\", color=\"darkred\")\n",
    "\n",
    "ax2.plot(original_left_toe_x[frames_of_interest],   original_left_toe_y[frames_of_interest],  '.-', label=\"original left toe\", color=\"darkblue\")\n",
    "ax2.plot(original_left_heel_x[frames_of_interest],  original_left_heel_y[frames_of_interest], 'o-', label=\"original left heel\", color=\"darkblue\")\n",
    "\n",
    "ax2.plot(com_x[frames_of_interest], com_y[frames_of_interest], 'o-', label=\"center of mass\", color=\"xkcd:dark sea green\")\n",
    "\n",
    "ax2 = normalize_axes_2d(ax2)\n",
    "ax2.legend()\n",
    "\n",
    "\n",
    "## plot transformed data (Time series)\n",
    "ax3 = figure.add_subplot(223)\n",
    "ax3.set_title(\"Transformed data - timeseries\")\n",
    "ax3.plot(transformed_right_heel_x, label=\"transformed right heel x\")\n",
    "ax3.plot(transformed_right_heel_y, label=\"transformed right heel y\")\n",
    "ax3.plot(transformed_right_heel_z, label=\"transformed right heel z\")\n",
    "ax3.legend()\n",
    "\n",
    "## plot transformed data (on XZ (ground) plane)\n",
    "ax4 = figure.add_subplot(224)\n",
    "ax4.set_title(\"Transformed data - center of mass vs base of support\")\n",
    "ax4.plot(transformed_right_toe_x[frames_of_interest],  transformed_right_toe_y[frames_of_interest], '.-', label=\"transformed right toe\", color=\"darkred\")\n",
    "ax4.plot(transformed_right_heel_x[frames_of_interest], transformed_right_heel_y[frames_of_interest], 'o-', label=\"transformed right heel\", color=\"darkred\")\n",
    "\n",
    "ax4.plot(transformed_left_toe_x[frames_of_interest],   transformed_left_toe_y[frames_of_interest],  '.-', label=\"transformed left toe\", color=\"darkblue\")\n",
    "ax4.plot(transformed_left_heel_x[frames_of_interest],  transformed_left_heel_y[frames_of_interest], 'o-', label=\"transformed left heel\", color=\"darkblue\")\n",
    "\n",
    "ax4.plot(transformed_center_of_mass_frame_xyz[frames_of_interest,0], transformed_center_of_mass_frame_xyz[frames_of_interest,1], 'o-', label=\"center of mass\", color=\"xkcd:dark sea green\")\n",
    "\n",
    "ax4 = normalize_axes_2d(ax4)\n",
    "\n",
    "ax4.legend()\n",
    "\n",
    "\n",
    "plt.show()"
   ]
  },
  {
   "cell_type": "code",
   "execution_count": null,
   "metadata": {
    "collapsed": false,
    "pycharm": {
     "name": "#%%\n"
    }
   },
   "outputs": [],
   "source": []
  }
 ],
 "metadata": {
  "kernelspec": {
   "display_name": "Python 3.9.12 ('freemocap-endurance')",
   "language": "python",
   "name": "python3"
  },
  "language_info": {
   "codemirror_mode": {
    "name": "ipython",
    "version": 3
   },
   "file_extension": ".py",
   "mimetype": "text/x-python",
   "name": "python",
   "nbconvert_exporter": "python",
   "pygments_lexer": "ipython3",
   "version": "3.9.12"
  },
  "vscode": {
   "interpreter": {
    "hash": "13279345b754ebd3bebf437090ccc748537e92f8f2c3ba4d096a903b73831ba1"
   }
  }
 },
 "nbformat": 4,
 "nbformat_minor": 0
}
