{
 "cells": [
  {
   "cell_type": "markdown",
   "metadata": {
    "collapsed": false,
    "pycharm": {
     "name": "#%% md\n"
    }
   },
   "source": [
    "# convert standard `freemocap` `npy` output to `pandas.DataFrame` `csv` files\n",
    "\n",
    "- load in `mediapipe_3d` data from a `freemocap` session\n",
    "- get tracked_point names from `mediapipe`\n",
    "- Create `pandas.DataFrame` objects for:P\n",
    "    - body_data\n",
    "        - xyz data\n",
    "        - reprojection_error data\n",
    "    - right_hand_data\n",
    "    - left_hand_data\n",
    "    - face_data"
   ]
  },
  {
   "cell_type": "code",
   "execution_count": 1,
   "metadata": {
    "collapsed": false,
    "pycharm": {
     "name": "#%%\n"
    }
   },
   "outputs": [],
   "source": [
    "from pathlib import Path\n",
    "import pandas as pd\n",
    "import numpy as np\n",
    "from mediapipe.python.solutions import holistic as mp_holistic\n"
   ]
  },
  {
   "cell_type": "code",
   "execution_count": 2,
   "metadata": {
    "collapsed": false,
    "pycharm": {
     "name": "#%%\n"
    }
   },
   "outputs": [
    {
     "name": "stdout",
     "output_type": "stream",
     "text": [
      "Body tracked point names: ['nose', 'left_eye_inner', 'left_eye', 'left_eye_outer', 'right_eye_inner', 'right_eye', 'right_eye_outer', 'left_ear', 'right_ear', 'mouth_left', 'mouth_right', 'left_shoulder', 'right_shoulder', 'left_elbow', 'right_elbow', 'left_wrist', 'right_wrist', 'left_pinky', 'right_pinky', 'left_index', 'right_index', 'left_thumb', 'right_thumb', 'left_hip', 'right_hip', 'left_knee', 'right_knee', 'left_ankle', 'right_ankle', 'left_heel', 'right_heel', 'left_foot_index', 'right_foot_index']\n",
      "['wrist', 'thumb_cmc', 'thumb_mcp', 'thumb_ip', 'thumb_tip', 'index_finger_mcp', 'index_finger_pip', 'index_finger_dip', 'index_finger_tip', 'middle_finger_mcp', 'middle_finger_pip', 'middle_finger_dip', 'middle_finger_tip', 'ring_finger_mcp', 'ring_finger_pip', 'ring_finger_dip', 'ring_finger_tip', 'pinky_mcp', 'pinky_pip', 'pinky_dip', 'pinky_tip']\n"
     ]
    }
   ],
   "source": [
    "pose_landmark_names = [landmark.name.lower() for landmark in mp_holistic.PoseLandmark]\n",
    "hand_landmark_names = [landmark.name.lower() for landmark in mp_holistic.HandLandmark]\n",
    "# face_landmark_names = [landmark.name.lower() for landmark in mp_holistic.PoseLandmark] #gonna have the clever for the face\n",
    "print(f\"Body tracked point names: {pose_landmark_names}\")\n",
    "print(hand_landmark_names)"
   ]
  },
  {
   "cell_type": "code",
   "execution_count": 3,
   "metadata": {},
   "outputs": [
    {
     "name": "stdout",
     "output_type": "stream",
     "text": [
      "loaded npy data with shape: (375, 553, 3)\n"
     ]
    }
   ],
   "source": [
    "# path to the `npy` file in question\n",
    "\n",
    "mediapipe_3d_npy_path = Path(r\"C:\\Users\\jonma\\freemocap_data\\session_07-26-2022-08_07_30\\output_data_files\\mediapipe_3dData_numFrames_numTrackedPoints_spatialXYZ.npy\")\n",
    "mediapipe_3d_frame_trackedPoint_xyz = np.load(str(mediapipe_3d_npy_path))\n",
    "\n",
    "print(f'loaded npy data with shape: {mediapipe_3d_frame_trackedPoint_xyz.shape}')\n"
   ]
  },
  {
   "cell_type": "code",
   "execution_count": 4,
   "metadata": {},
   "outputs": [
    {
     "name": "stdout",
     "output_type": "stream",
     "text": [
      "body tracked point indices: 0:32\n",
      "right hand tracked point indices: 33:54\n",
      "left hand tracked point indices: 55:74\n",
      "face tracked point indices: 75:553\n"
     ]
    }
   ],
   "source": [
    "#get number of points in body, hands, face\n",
    "\n",
    "number_of_body_points = len(pose_landmark_names)\n",
    "number_of_hand_points = len(hand_landmark_names)\n",
    "\n",
    "first_body_marker_index = 0\n",
    "last_body_marker_index = number_of_body_points-1\n",
    "\n",
    "first_right_hand_marker_index = last_body_marker_index + 1\n",
    "last_right_hand_marker_index = number_of_body_points + number_of_hand_points\n",
    "\n",
    "first_left_hand_marker_index = last_right_hand_marker_index + 1\n",
    "last_left_hand_marker_index = last_right_hand_marker_index + number_of_hand_points-1\n",
    "\n",
    "first_face_marker_index = last_left_hand_marker_index + 1\n",
    "last_face_marker_index = mediapipe_3d_frame_trackedPoint_xyz.shape[1]\n",
    "\n",
    "print(f\"body tracked point indices: {first_body_marker_index}:{last_body_marker_index}\")\n",
    "print(f\"right hand tracked point indices: {first_right_hand_marker_index}:{last_right_hand_marker_index}\")\n",
    "print(f\"left hand tracked point indices: {first_left_hand_marker_index}:{last_left_hand_marker_index}\")\n",
    "print(f\"face tracked point indices: {first_face_marker_index}:{last_face_marker_index}\")\n"
   ]
  },
  {
   "cell_type": "code",
   "execution_count": 6,
   "metadata": {},
   "outputs": [
    {
     "name": "stdout",
     "output_type": "stream",
     "text": [
      "body 3d xyz shape: (375, 33, 3)\n",
      "right hand 3d xyz shape: (375, 22, 3)\n",
      "left hand 3d xyz shape: (375, 20, 3)\n",
      "face 3d xyz shape: (375, 478, 3)\n"
     ]
    }
   ],
   "source": [
    "body_3d_xyz = mediapipe_3d_frame_trackedPoint_xyz[:,first_body_marker_index:last_body_marker_index+1,:]\n",
    "right_hand_3d_xyz = mediapipe_3d_frame_trackedPoint_xyz[:,first_right_hand_marker_index:last_right_hand_marker_index+1,:]\n",
    "left_hand_3d_xyz = mediapipe_3d_frame_trackedPoint_xyz[:,first_left_hand_marker_index:last_left_hand_marker_index+1,:]\n",
    "face_3d_xyz = mediapipe_3d_frame_trackedPoint_xyz[:,first_face_marker_index:last_face_marker_index+1,:]\n",
    "\n",
    "print(f\"body 3d xyz shape: {body_3d_xyz.shape}\")\n",
    "print(f\"right hand 3d xyz shape: {right_hand_3d_xyz.shape}\")\n",
    "print(f\"left hand 3d xyz shape: {left_hand_3d_xyz.shape}\")\n",
    "print(f\"face 3d xyz shape: {face_3d_xyz.shape}\")"
   ]
  },
  {
   "cell_type": "code",
   "execution_count": null,
   "metadata": {},
   "outputs": [],
   "source": []
  }
 ],
 "metadata": {
  "kernelspec": {
   "display_name": "Python 3.9.12 ('fmc-endurance')",
   "language": "python",
   "name": "python3"
  },
  "language_info": {
   "codemirror_mode": {
    "name": "ipython",
    "version": 3
   },
   "file_extension": ".py",
   "mimetype": "text/x-python",
   "name": "python",
   "nbconvert_exporter": "python",
   "pygments_lexer": "ipython3",
   "version": "3.9.12"
  },
  "vscode": {
   "interpreter": {
    "hash": "faaa4718f81dea544b1eec21b9b5977abdad8a3ae32c87c23f8249d29cfa9e11"
   }
  }
 },
 "nbformat": 4,
 "nbformat_minor": 0
}
