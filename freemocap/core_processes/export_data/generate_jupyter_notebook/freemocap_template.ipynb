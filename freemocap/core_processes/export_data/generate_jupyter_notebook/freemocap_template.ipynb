{
 "cells": [
  {
   "attachments": {},
   "cell_type": "markdown",
   "metadata": {},
   "source": [
    "## Load necessary libraries\n",
    "\n",
    "First, we are importing libraries (also known as \"packages\") that we will use throughout this notebook. In this case, we are using pathlib, numpy, and plotly. If they are not installed, we will install them.\n",
    "\n",
    "Pathlib provides methods to handle file and directory paths, numpy allows us to handle arrays, and plotly is the graphing library we will use for visualization.\n",
    "\n",
    "If any of these libraries are not installed, we install them directly from this notebook."
   ]
  },
  {
   "cell_type": "code",
   "execution_count": null,
   "metadata": {
    "tags": []
   },
   "outputs": [],
   "source": [
    "from pathlib import Path\n",
    "\n",
    "try:\n",
    "    import numpy as np\n",
    "except Exception as e:\n",
    "    print(e)\n",
    "    %pip install numpy\n",
    "    import numpy as np\n",
    "\n",
    "\n",
    "try:\n",
    "    from plotly.subplots import make_subplots\n",
    "    import plotly.graph_objects as go\n",
    "except Exception as e:\n",
    "    print(e)\n",
    "    %pip install plotly\n",
    "    from plotly.subplots import make_subplots\n",
    "    import plotly.graph_objects as go\n",
    "    "
   ]
  },
  {
   "attachments": {},
   "cell_type": "markdown",
   "metadata": {},
   "source": [
    "## Define variables\n",
    "\n",
    "Next, we're defining a few things we'll need to use later:\n",
    "\n",
    "- `path_to_recording`: This is a path to the folder where the mocap data for this recording is stored\n",
    "- `joint_to_plot`: We need to tell the program which joint we want to visualize. By default, we select the 'nose'.\n",
    "- `mediapipe_indices`: These are the possible joints that can be visualized.\n",
    "\n",
    "You can select a different joint from `mediapipe_indices` to view the plot for that - for example, you could replace `joint_to_plot = 'nose'` with `joint_to_plot = 'left_elbow'` to view the trajectory visualization for the left elbow. \n",
    "\n",
    "We're also getting the path to two types of data we need - 'center of mass' and '3D body data'. We will be loading and using these datasets later on."
   ]
  },
  {
   "cell_type": "code",
   "execution_count": null,
   "metadata": {
    "tags": [
     "parameters"
    ]
   },
   "outputs": [],
   "source": [
    "path_to_recording = None"
   ]
  },
  {
   "cell_type": "code",
   "execution_count": null,
   "metadata": {},
   "outputs": [],
   "source": [
    "#pick a joint from the mediapipe indices list to plot\n",
    "joint_to_plot = 'nose'"
   ]
  },
  {
   "cell_type": "code",
   "execution_count": null,
   "metadata": {},
   "outputs": [],
   "source": [
    "\n",
    "mediapipe_indices = ['nose',\n",
    "    'left_eye_inner',\n",
    "    'left_eye',\n",
    "    'left_eye_outer',\n",
    "    'right_eye_inner',\n",
    "    'right_eye',\n",
    "    'right_eye_outer',\n",
    "    'left_ear',\n",
    "    'right_ear',\n",
    "    'mouth_left',\n",
    "    'mouth_right',\n",
    "    'left_shoulder',\n",
    "    'right_shoulder',\n",
    "    'left_elbow',\n",
    "    'right_elbow',\n",
    "    'left_wrist',\n",
    "    'right_wrist',\n",
    "    'left_pinky',\n",
    "    'right_pinky',\n",
    "    'left_index',\n",
    "    'right_index',\n",
    "    'left_thumb',\n",
    "    'right_thumb',\n",
    "    'left_hip',\n",
    "    'right_hip',\n",
    "    'left_knee',\n",
    "    'right_knee',\n",
    "    'left_ankle',\n",
    "    'right_ankle',\n",
    "    'left_heel',\n",
    "    'right_heel',\n",
    "    'left_foot_index',\n",
    "    'right_foot_index']\n",
    "\n",
    "joint_to_plot_index = mediapipe_indices.index(joint_to_plot)"
   ]
  },
  {
   "cell_type": "code",
   "execution_count": null,
   "metadata": {
    "tags": []
   },
   "outputs": [],
   "source": [
    "path_to_recording = Path(path_to_recording)\n",
    "path_to_center_of_mass_npy = path_to_recording/'output_data'/'center_of_mass'/'total_body_center_of_mass_xyz.npy'\n",
    "path_to_freemocap_3d_body_data_npy = path_to_recording/'output_data'/'mediapipe_body_3d_xyz.npy'\n",
    "\n",
    "freemocap_3d_body_data = np.load(path_to_freemocap_3d_body_data_npy)\n",
    "total_body_com_data = np.load(path_to_center_of_mass_npy)\n",
    "\n",
    "freemocap_3d_body_data_to_plot = freemocap_3d_body_data[:,joint_to_plot_index,:]\n"
   ]
  },
  {
   "attachments": {},
   "cell_type": "markdown",
   "metadata": {},
   "source": [
    "## Plotting\n",
    "\n",
    "After loading our data, we are going to create some plots to better visualize it. Specifically, we are plotting the trajectory of the total body center of mass and the trajectory of the chosen joint (`nose` by default, but you can replace that and rerun this notebook to plot a different trajectory).\n",
    "\n",
    "The first three plots (in column 1) represent the X, Y, and Z trajectories of the total body center of mass. The next three plots (in column 2) represent the X, Y, and Z trajectories of the chosen joint.\n",
    "\n",
    "Note: The X, Y, and Z values refer to the three dimensions in space.\n",
    "\n",
    "You can click and drag on the plots below to interact with them and zoom into certain areas. When hovering over the plot, you can see additional options in the top right to pan, zoom, reset, and download the plots. "
   ]
  },
  {
   "cell_type": "code",
   "execution_count": null,
   "metadata": {},
   "outputs": [],
   "source": [
    "\n",
    "fig = make_subplots(rows=3, cols=2, subplot_titles=('total body center of mass trajectory',f'{joint_to_plot} trajectory'))\n",
    "\n",
    "fig.add_trace(\n",
    "    go.Scatter(y = total_body_com_data[:,0]),\n",
    "    row=1, col=1\n",
    ")\n",
    "\n",
    "fig.add_trace(\n",
    "    go.Scatter(y = total_body_com_data[:,1]),\n",
    "    row=2, col=1\n",
    ")\n",
    "\n",
    "fig.add_trace(\n",
    "    go.Scatter(y = total_body_com_data[:,2]),\n",
    "    row=3, col=1\n",
    ")\n",
    "\n",
    "fig.add_trace(\n",
    "        go.Scatter(y = freemocap_3d_body_data_to_plot[:,0]),\n",
    "    row=1, col=2\n",
    ")\n",
    "\n",
    "fig.add_trace(\n",
    "        go.Scatter(y = freemocap_3d_body_data_to_plot[:,1]),\n",
    "    row=2, col=2\n",
    ")\n",
    "\n",
    "fig.add_trace(\n",
    "        go.Scatter(y = freemocap_3d_body_data_to_plot[:,2]),\n",
    "    row=3, col=2\n",
    ")\n",
    "\n",
    "#COM plot axes labels \n",
    "fig['layout']['yaxis']['title']='X Axis (mm)'\n",
    "fig['layout']['yaxis3']['title']='Y Axis (mm)'\n",
    "fig['layout']['yaxis5']['title']='Z Axis (mm)'\n",
    "fig['layout']['xaxis5']['title']='Frame #'\n",
    "fig['layout']['xaxis6']['title']='Frame #'\n",
    "\n",
    "\n",
    "\n",
    "\n",
    "fig.update_layout(height=600, width=800,showlegend=False)\n",
    "fig.show()\n"
   ]
  },
  {
   "attachments": {},
   "cell_type": "markdown",
   "metadata": {},
   "source": [
    "## 3D Plotting\n",
    "\n",
    "Finally, we are creating a 3D plot of the skeleton movement, tracking all the joints in the `mediapipe_indices` list over time.  \n",
    "\n",
    "The 'Play' button at the bottom allows you to watch the motion as if it were a video. Before pressing play, you can manually click and drag the plot around to orient the view of the plot. "
   ]
  },
  {
   "cell_type": "code",
   "execution_count": null,
   "metadata": {},
   "outputs": [],
   "source": [
    "\n",
    "def calculate_axes_means(skeleton_3d_data):\n",
    "    mx_skel = np.nanmean(skeleton_3d_data[:,0:33,0])\n",
    "    my_skel = np.nanmean(skeleton_3d_data[:,0:33,1])\n",
    "    mz_skel = np.nanmean(skeleton_3d_data[:,0:33,2])\n",
    "\n",
    "    return mx_skel, my_skel, mz_skel\n",
    "\n",
    "ax_range = 1500\n",
    "\n",
    "mx_skel, my_skel, mz_skel = calculate_axes_means(freemocap_3d_body_data)\n",
    "\n",
    "# Create a list of frames\n",
    "frames = [go.Frame(data=[go.Scatter3d(\n",
    "    x=freemocap_3d_body_data[i, :, 0],\n",
    "    y=freemocap_3d_body_data[i, :, 1],\n",
    "    z=freemocap_3d_body_data[i, :, 2],\n",
    "    mode='markers',\n",
    "    marker=dict(\n",
    "        size=2,  # Adjust marker size as needed\n",
    "    )\n",
    ")], name=str(i)) for i in range(freemocap_3d_body_data.shape[0])]\n",
    "\n",
    "# Define axis properties\n",
    "axis = dict(\n",
    "    showbackground=True,\n",
    "    backgroundcolor=\"rgb(230, 230,230)\",\n",
    "    gridcolor=\"rgb(255, 255, 255)\",\n",
    "    zerolinecolor=\"rgb(255, 255, 255)\",\n",
    ")\n",
    "\n",
    "# Create a figure\n",
    "fig = go.Figure(\n",
    "    data=[go.Scatter3d(\n",
    "        x=freemocap_3d_body_data[0, :, 0],\n",
    "        y=freemocap_3d_body_data[0, :, 1],\n",
    "        z=freemocap_3d_body_data[0, :, 2],\n",
    "        mode='markers',\n",
    "        marker=dict(\n",
    "            size=2,  # Adjust marker size as needed\n",
    "        )\n",
    "    )],\n",
    "    layout=go.Layout(\n",
    "        scene=dict(\n",
    "            xaxis=dict(axis, range=[mx_skel-ax_range, mx_skel+ax_range]), # Adjust range as needed\n",
    "            yaxis=dict(axis, range=[my_skel-ax_range, my_skel+ax_range]), # Adjust range as needed\n",
    "            zaxis=dict(axis, range=[mz_skel-ax_range, mz_skel+ax_range]),  # Adjust range as needed\n",
    "            aspectmode='cube'\n",
    "        ),\n",
    "        updatemenus=[dict(\n",
    "            type='buttons',\n",
    "            showactive=False,\n",
    "            buttons=[dict(\n",
    "                label='Play',\n",
    "                method='animate',\n",
    "                args=[None, {\"frame\": {\"duration\": 30}}]\n",
    "            )]\n",
    "        )]\n",
    "    ),\n",
    "    frames=frames\n",
    ")\n",
    "\n",
    "fig.show()"
   ]
  }
 ],
 "metadata": {
  "kernelspec": {
   "display_name": "validation_req_test",
   "language": "python",
   "name": "python3"
  },
  "language_info": {
   "codemirror_mode": {
    "name": "ipython",
    "version": 3
   },
   "file_extension": ".py",
   "mimetype": "text/x-python",
   "name": "python",
   "nbconvert_exporter": "python",
   "pygments_lexer": "ipython3",
   "version": "3.9.16"
  },
  "orig_nbformat": 4
 },
 "nbformat": 4,
 "nbformat_minor": 2
}
