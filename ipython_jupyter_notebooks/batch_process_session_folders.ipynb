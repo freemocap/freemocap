{
 "cells": [
  {
   "cell_type": "markdown",
   "metadata": {
    "collapsed": false,
    "pycharm": {
     "name": "#%% md\n"
    }
   },
   "source": [
    "# Batch Process multiple freemocap session folders\n"
   ]
  },
  {
   "cell_type": "code",
   "execution_count": null,
   "metadata": {
    "collapsed": false,
    "pycharm": {
     "name": "#%%\n"
    }
   },
   "outputs": [],
   "source": [
    "#import stuff\n",
    "from pathlib import Path\n",
    "\n",
    "\n",
    "from src.core_processes.batch_process_session_folders import process_session_folder\n",
    "from src.core_processes.capture_volume_calibration.anipose_camera_calibration import freemocap_anipose\n"
   ]
  },
  {
   "cell_type": "code",
   "execution_count": null,
   "metadata": {
    "collapsed": false,
    "pycharm": {
     "name": "#%%\n"
    }
   },
   "outputs": [],
   "source": [
    "# getcher paths straight\n",
    "path_to_folder_of_session_folders = Path(\n",
    "    r'D:\\Dropbox\\Northeastern\\Courses\\Biol2299\\2022_09_Fall_Biol2299_Inquiries_NeuralControlOfRealWorldBehavior\\freemocap_bos_com_standing_data\\FreeMocap_Data')\n",
    "\n",
    "path_to_camera_calibration_toml = Path(\n",
    "    r\"D:\\Dropbox\\Northeastern\\Courses\\Biol2299\\2022_09_Fall_Biol2299_Inquiries_NeuralControlOfRealWorldBehavior\\freemocap_bos_com_standing_data\\FreeMocap_Data\\sesh_2022-09-28_15_57_08_calibration\\sesh_2022-09-28_15_57_08_calibration_calibration.toml\"\n",
    ")\n",
    "\n",
    "path_to_blender_executable = Path(r\"C:\\Program Files\\Blender Foundation\\Blender 3.2\\blender.exe\")"
   ]
  },
  {
   "cell_type": "code",
   "execution_count": null,
   "metadata": {
    "collapsed": false,
    "pycharm": {
     "name": "#%%\n"
    }
   },
   "outputs": [],
   "source": [
    "# get anipose calibration object\n",
    "anipose_calibration_object = freemocap_anipose.CameraGroup.load(str(path_to_camera_calibration_toml))"
   ]
  },
  {
   "cell_type": "code",
   "execution_count": null,
   "metadata": {
    "collapsed": false,
    "pycharm": {
     "name": "#%%\n"
    }
   },
   "outputs": [],
   "source": [
    "#get paths to folder full of session folders\n",
    "list_of_session_folders = list(path_to_folder_of_session_folders.glob('ses*'))\n",
    "print(list_of_session_folders)"
   ]
  },
  {
   "cell_type": "code",
   "execution_count": null,
   "metadata": {
    "collapsed": false,
    "pycharm": {
     "name": "#%%\n"
    }
   },
   "outputs": [],
   "source": [
    "session_type = 'pre-alpha'\n",
    "for session_folder in list_of_session_folders:\n",
    "    print(f'Processing {session_folder}')\n",
    "    if session_type == 'pre-alpha':\n",
    "        synchronized_videos_folder = Path(session_folder) / 'SyncedVideos'\n",
    "    else:\n",
    "        synchronized_videos_folder = Path(session_folder) / 'synchronized_videos'\n",
    "\n",
    "    output_data_folder = Path(session_folder) / 'output_data'\n",
    "    output_data_folder.mkdir(exist_ok=True, parents=True)\n",
    "    process_session_folder(synchronized_videos_folder=synchronized_videos_folder,\n",
    "                           output_data_folder=output_data_folder,)\n",
    "\n",
    "print(\"Done!\")"
   ]
  }
 ],
 "metadata": {
  "kernelspec": {
   "display_name": "Python 3",
   "language": "python",
   "name": "python3"
  },
  "language_info": {
   "codemirror_mode": {
    "name": "ipython",
    "version": 2
   },
   "file_extension": ".py",
   "mimetype": "text/x-python",
   "name": "python",
   "nbconvert_exporter": "python",
   "pygments_lexer": "ipython2",
   "version": "2.7.6"
  }
 },
 "nbformat": 4,
 "nbformat_minor": 0
}