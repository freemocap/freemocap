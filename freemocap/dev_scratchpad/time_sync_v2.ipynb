{
 "cells": [
  {
   "cell_type": "code",
   "execution_count": 1,
   "metadata": {},
   "outputs": [],
   "source": [
    "import numpy as np\n",
    "import pandas as pd\n",
    "import matplotlib.pyplot as plt\n",
    "from pathlib import Path"
   ]
  },
  {
   "cell_type": "code",
   "execution_count": 2,
   "metadata": {},
   "outputs": [
    {
     "data": {
      "text/html": [
       "<div>\n",
       "<style scoped>\n",
       "    .dataframe tbody tr th:only-of-type {\n",
       "        vertical-align: middle;\n",
       "    }\n",
       "\n",
       "    .dataframe tbody tr th {\n",
       "        vertical-align: top;\n",
       "    }\n",
       "\n",
       "    .dataframe thead th {\n",
       "        text-align: right;\n",
       "    }\n",
       "</style>\n",
       "<table border=\"1\" class=\"dataframe\">\n",
       "  <thead>\n",
       "    <tr style=\"text-align: right;\">\n",
       "      <th></th>\n",
       "      <th>Unnamed: 0</th>\n",
       "      <th>Cam1</th>\n",
       "      <th>Cam2</th>\n",
       "      <th>Cam3</th>\n",
       "      <th>Cam4</th>\n",
       "      <th>Cam5</th>\n",
       "    </tr>\n",
       "  </thead>\n",
       "  <tbody>\n",
       "    <tr>\n",
       "      <th>0</th>\n",
       "      <td>0</td>\n",
       "      <td>1.750172</td>\n",
       "      <td>2.068959</td>\n",
       "      <td>1.934951</td>\n",
       "      <td>1.801427</td>\n",
       "      <td>2.112885</td>\n",
       "    </tr>\n",
       "    <tr>\n",
       "      <th>1</th>\n",
       "      <td>1</td>\n",
       "      <td>1.781451</td>\n",
       "      <td>2.110887</td>\n",
       "      <td>1.985400</td>\n",
       "      <td>1.849017</td>\n",
       "      <td>2.163501</td>\n",
       "    </tr>\n",
       "    <tr>\n",
       "      <th>2</th>\n",
       "      <td>2</td>\n",
       "      <td>1.812396</td>\n",
       "      <td>2.144079</td>\n",
       "      <td>2.016474</td>\n",
       "      <td>1.880987</td>\n",
       "      <td>2.192944</td>\n",
       "    </tr>\n",
       "    <tr>\n",
       "      <th>3</th>\n",
       "      <td>3</td>\n",
       "      <td>1.861013</td>\n",
       "      <td>2.190948</td>\n",
       "      <td>2.063975</td>\n",
       "      <td>1.934951</td>\n",
       "      <td>2.244276</td>\n",
       "    </tr>\n",
       "    <tr>\n",
       "      <th>4</th>\n",
       "      <td>4</td>\n",
       "      <td>1.893983</td>\n",
       "      <td>2.225858</td>\n",
       "      <td>2.088962</td>\n",
       "      <td>1.968411</td>\n",
       "      <td>2.272026</td>\n",
       "    </tr>\n",
       "    <tr>\n",
       "      <th>...</th>\n",
       "      <td>...</td>\n",
       "      <td>...</td>\n",
       "      <td>...</td>\n",
       "      <td>...</td>\n",
       "      <td>...</td>\n",
       "      <td>...</td>\n",
       "    </tr>\n",
       "    <tr>\n",
       "      <th>461</th>\n",
       "      <td>461</td>\n",
       "      <td>20.178664</td>\n",
       "      <td>NaN</td>\n",
       "      <td>NaN</td>\n",
       "      <td>20.328335</td>\n",
       "      <td>NaN</td>\n",
       "    </tr>\n",
       "    <tr>\n",
       "      <th>462</th>\n",
       "      <td>462</td>\n",
       "      <td>20.212092</td>\n",
       "      <td>NaN</td>\n",
       "      <td>NaN</td>\n",
       "      <td>NaN</td>\n",
       "      <td>NaN</td>\n",
       "    </tr>\n",
       "    <tr>\n",
       "      <th>463</th>\n",
       "      <td>463</td>\n",
       "      <td>20.259496</td>\n",
       "      <td>NaN</td>\n",
       "      <td>NaN</td>\n",
       "      <td>NaN</td>\n",
       "      <td>NaN</td>\n",
       "    </tr>\n",
       "    <tr>\n",
       "      <th>464</th>\n",
       "      <td>464</td>\n",
       "      <td>20.292942</td>\n",
       "      <td>NaN</td>\n",
       "      <td>NaN</td>\n",
       "      <td>NaN</td>\n",
       "      <td>NaN</td>\n",
       "    </tr>\n",
       "    <tr>\n",
       "      <th>465</th>\n",
       "      <td>465</td>\n",
       "      <td>20.340535</td>\n",
       "      <td>NaN</td>\n",
       "      <td>NaN</td>\n",
       "      <td>NaN</td>\n",
       "      <td>NaN</td>\n",
       "    </tr>\n",
       "  </tbody>\n",
       "</table>\n",
       "<p>466 rows × 6 columns</p>\n",
       "</div>"
      ],
      "text/plain": [
       "     Unnamed: 0       Cam1      Cam2      Cam3       Cam4      Cam5\n",
       "0             0   1.750172  2.068959  1.934951   1.801427  2.112885\n",
       "1             1   1.781451  2.110887  1.985400   1.849017  2.163501\n",
       "2             2   1.812396  2.144079  2.016474   1.880987  2.192944\n",
       "3             3   1.861013  2.190948  2.063975   1.934951  2.244276\n",
       "4             4   1.893983  2.225858  2.088962   1.968411  2.272026\n",
       "..          ...        ...       ...       ...        ...       ...\n",
       "461         461  20.178664       NaN       NaN  20.328335       NaN\n",
       "462         462  20.212092       NaN       NaN        NaN       NaN\n",
       "463         463  20.259496       NaN       NaN        NaN       NaN\n",
       "464         464  20.292942       NaN       NaN        NaN       NaN\n",
       "465         465  20.340535       NaN       NaN        NaN       NaN\n",
       "\n",
       "[466 rows x 6 columns]"
      ]
     },
     "execution_count": 2,
     "metadata": {},
     "output_type": "execute_result"
    }
   ],
   "source": [
    "timestamp_csv_path =  Path(r\"C:\\Users\\jonma\\Dropbox\\FreeMoCapProject\\FreeMocap_Data\\sesh_2021-11-21_19_42_07\\RawVideos\\sesh_2021-11-21_19_42_07_timestamps.csv\")\n",
    "\n",
    "time_stamp_dataframe = pd.read_csv(timestamp_csv_path)\n",
    "\n",
    "time_stamp_dataframe"
   ]
  },
  {
   "cell_type": "code",
   "execution_count": 5,
   "metadata": {},
   "outputs": [],
   "source": [
    "cam1 = time_stamp_dataframe[\"Cam1\"].to_numpy()\n",
    "cam2 = time_stamp_dataframe[\"Cam2\"].to_numpy()\n",
    "cam3 = time_stamp_dataframe[\"Cam3\"].to_numpy()\n",
    "cam4 = time_stamp_dataframe[\"Cam4\"].to_numpy()\n",
    "cam5 = time_stamp_dataframe[\"Cam5\"].to_numpy()"
   ]
  },
  {
   "cell_type": "code",
   "execution_count": 6,
   "metadata": {},
   "outputs": [
    {
     "data": {
      "text/plain": [
       "[<matplotlib.lines.Line2D at 0x2ed92858548>]"
      ]
     },
     "execution_count": 6,
     "metadata": {},
     "output_type": "execute_result"
    },
    {
     "data": {
      "image/png": "[encoded data removed]",
      "text/plain": [
       "<Figure size 432x288 with 1 Axes>"
      ]
     },
     "metadata": {
      "needs_background": "light"
     },
     "output_type": "display_data"
    }
   ],
   "source": [
    "plt.plot(cam1)\n",
    "plt.plot(cam2)\n",
    "plt.plot(cam3)\n",
    "plt.plot(cam4)\n",
    "plt.plot(cam5)"
   ]
  },
  {
   "cell_type": "code",
   "execution_count": null,
   "metadata": {},
   "outputs": [],
   "source": []
  }
 ],
 "metadata": {
  "interpreter": {
   "hash": "5f2daf2994cb107dacf5429ca85e18c6780d4b3f53e6372ad77e762db2af8054"
  },
  "kernelspec": {
   "display_name": "Python 3.7.11 64-bit ('fmc43rc': conda)",
   "language": "python",
   "name": "python3"
  },
  "language_info": {
   "codemirror_mode": {
    "name": "ipython",
    "version": 3
   },
   "file_extension": ".py",
   "mimetype": "text/x-python",
   "name": "python",
   "nbconvert_exporter": "python",
   "pygments_lexer": "ipython3",
   "version": "3.7.11"
  },
  "orig_nbformat": 4
 },
 "nbformat": 4,
 "nbformat_minor": 2
}
