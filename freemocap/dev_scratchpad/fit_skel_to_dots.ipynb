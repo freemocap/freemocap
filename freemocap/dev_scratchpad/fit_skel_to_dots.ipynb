{
 "cells": [
  {
   "cell_type": "code",
   "execution_count": null,
   "metadata": {},
   "outputs": [],
   "source": [
    "import numpy as np\n",
    "from scipy import optimize\n",
    "import json\n",
    "from rich import print"
   ]
  },
  {
   "cell_type": "markdown",
   "metadata": {},
   "source": [
    "# load data"
   ]
  },
  {
   "cell_type": "code",
   "execution_count": null,
   "metadata": {},
   "outputs": [],
   "source": [
    "skel_fr_mar_dim_og = np.load(r\"C:\\Users\\jonma\\Dropbox\\FreeMoCapProject\\FreeMocap_Data\\sesh_2022-01-03_19_14_39\\DataArrays\\mediaPipeSkel_3d_smoothed.npy\")"
   ]
  },
  {
   "cell_type": "markdown",
   "metadata": {},
   "source": [
    "# load mediapipe definitons"
   ]
  },
  {
   "cell_type": "code",
   "execution_count": null,
   "metadata": {},
   "outputs": [],
   "source": [
    "mediapipe_json = open(r\"C:\\Users\\jonma\\Dropbox\\GitKrakenRepos\\freemocap\\freemocap\\dev_scratchpad\\dev_alpha\\default_json_definitions\\freemocap_mediapipe_json.json\")\n",
    "mediapipe_formatting_dict = json.load(mediapipe_json)\n"
   ]
  },
  {
   "cell_type": "code",
   "execution_count": null,
   "metadata": {},
   "outputs": [],
   "source": [
    "#take a look, if you want!\n",
    "#print(mediapipe_definitions_dict)"
   ]
  },
  {
   "cell_type": "markdown",
   "metadata": {},
   "source": [
    "# get skeleton constraints, based on parent-child relationships defined in the jason\n"
   ]
  },
  {
   "cell_type": "code",
   "execution_count": null,
   "metadata": {},
   "outputs": [],
   "source": [
    "\n"
   ]
  }
 ],
 "metadata": {
  "interpreter": {
   "hash": "82e606d03bb5ea8b8ecb178c4510354cd9c1f96cd94fcd95b722a3ff15cb0c24"
  },
  "kernelspec": {
   "display_name": "Python 3.7.11 64-bit ('fmc43-pip': conda)",
   "language": "python",
   "name": "python3"
  },
  "language_info": {
   "codemirror_mode": {
    "name": "ipython",
    "version": 3
   },
   "file_extension": ".py",
   "mimetype": "text/x-python",
   "name": "python",
   "nbconvert_exporter": "python",
   "pygments_lexer": "ipython3",
   "version": "3.7.12"
  },
  "orig_nbformat": 4
 },
 "nbformat": 4,
 "nbformat_minor": 2
}
